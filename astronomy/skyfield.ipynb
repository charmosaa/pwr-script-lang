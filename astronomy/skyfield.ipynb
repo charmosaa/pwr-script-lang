{
 "cells": [
  {
   "cell_type": "markdown",
   "id": "eb469b3e-e1a7-4a43-bd47-4330e739732f",
   "metadata": {},
   "source": [
    "# Skyfield\n",
    "Biblioteka do obliczeń astronomicznych\n"
   ]
  },
  {
   "cell_type": "markdown",
   "id": "d226f13c",
   "metadata": {},
   "source": [
    "## Przykładowe zastosowania\n",
    "- śledzenie pozycji planet \n",
    "- określanie wschodów i zachodów słońca dla danej lokalizacji\n",
    "- oblicznie momentów zaćmień i faz księżyca\n",
    "- obsługa plików TLE i analiza pozycji satelitów"
   ]
  },
  {
   "cell_type": "markdown",
   "id": "e0633bb1",
   "metadata": {},
   "source": [
    "### Przykładowy kod 1 - odległości między planetami"
   ]
  },
  {
   "cell_type": "code",
   "execution_count": 30,
   "id": "b92af8ec-965f-4a6e-aafe-89700484a5b4",
   "metadata": {},
   "outputs": [
    {
     "name": "stdout",
     "output_type": "stream",
     "text": [
      "Earth to Venus\n",
      "\n",
      "Right Ascension: 04h 47m 09.93s\n",
      "Declination: +22deg 01' 14.1\"\n",
      "Distance in astronomical units: 5.1831 au\n",
      "Distance in kilometers: 775,380,990 km\n"
     ]
    }
   ],
   "source": [
    "from skyfield.api import load\n",
    "\n",
    "# Getting current time\n",
    "ts = load.timescale()\n",
    "t = ts.now()\n",
    "\n",
    "# This file covers planets positions 1900-2050).\n",
    "planets = load('de421.bsp')\n",
    "earth, venus = planets['earth'], planets['jupiter barycenter']\n",
    "\n",
    "# Getting the position of Venus, viewed from Earth\n",
    "astrometric = earth.at(t).observe(venus)\n",
    "ra, dec, distance = astrometric.radec()\n",
    "\n",
    "print('Earth to Venus\\n')\n",
    "print(f'Right Ascension: {ra}')                             # in hours where 1h = 15° and 0h is March equinox\n",
    "print(f'Declination: {dec}')                                # in degrees where 0° is the celestial equator\n",
    "print(f'Distance in astronomical units: {distance}')        # in AU where 1 AU is the average distance from Earth to the Sun\n",
    "print(f\"Distance in kilometers: {distance.km:,.0f} km\")     # in km where 1 AU about 149mln km"
   ]
  },
  {
   "cell_type": "markdown",
   "id": "f57c18e9",
   "metadata": {},
   "source": [
    "### Przykładowy kod 2 - wschody i zachody słońca"
   ]
  },
  {
   "cell_type": "code",
   "execution_count": 27,
   "id": "e1abc317",
   "metadata": {},
   "outputs": [
    {
     "name": "stdout",
     "output_type": "stream",
     "text": [
      "Next sunset: 2025-03-14 17:53:21 CET\n",
      "Next sunrise: 2025-03-14 06:09:30 CET\n"
     ]
    }
   ],
   "source": [
    "from skyfield.api import load, wgs84\n",
    "from skyfield import almanac  \n",
    "import pytz\n",
    "\n",
    "ts = load.timescale()\n",
    "planets = load('de421.bsp')\n",
    "earth, sun = planets['earth'], planets['sun']\n",
    "\n",
    "# Wrocław coordinates and timezone\n",
    "observer = wgs84.latlon(51.107883, 17.038538)\n",
    "timezone = pytz.timezone('Europe/Warsaw')\n",
    "\n",
    "t0 = ts.now()\n",
    "t1 = ts.now() + 1\n",
    "\n",
    "# Compute the times of sunrise and sunset\n",
    "f = almanac.risings_and_settings(planets, sun, observer)\n",
    "t_events, event_types = almanac.find_discrete(t0, t1, f)\n",
    "\n",
    "# Event types: 1 = sunrise, 0 = sunset\n",
    "sunrise = t_events[event_types == 1][0]\n",
    "sunset = t_events[event_types == 0][0]\n",
    "\n",
    "# Convert UTC to local time\n",
    "sunset_local = sunset.utc_datetime().replace(tzinfo=pytz.utc).astimezone(timezone)\n",
    "sunrise_local = sunrise.utc_datetime().replace(tzinfo=pytz.utc).astimezone(timezone)\n",
    "\n",
    "print(f\"Next sunset: {sunset_local:%Y-%m-%d %H:%M:%S %Z}\")\n",
    "print(f\"Next sunrise: {sunrise_local:%Y-%m-%d %H:%M:%S %Z}\")\n"
   ]
  },
  {
   "cell_type": "markdown",
   "id": "246127d8",
   "metadata": {},
   "source": [
    "### Przykładowy kod 3 - fazy księżyca"
   ]
  },
  {
   "cell_type": "code",
   "execution_count": 28,
   "id": "7e9a5dc4",
   "metadata": {},
   "outputs": [
    {
     "name": "stdout",
     "output_type": "stream",
     "text": [
      "2025-03-06 16:31:37 UTC - First Quarter\n",
      "2025-03-14 06:54:39 UTC - Full Moon\n",
      "2025-03-22 11:29:26 UTC - Last Quarter\n",
      "2025-03-29 10:57:49 UTC - New Moon\n"
     ]
    }
   ],
   "source": [
    "from skyfield.api import load\n",
    "from skyfield import almanac  \n",
    "\n",
    "ts = load.timescale()\n",
    "ephemeris_objects = load('de421.bsp')\n",
    "\n",
    "t0 = ts.utc(2025, 3, 1)\n",
    "t1 = ts.utc(2025, 4, 1)\n",
    "\n",
    "# Create function for moon phases\n",
    "f = almanac.moon_phases(ephemeris_objects)\n",
    "\n",
    "# Find moon phases between t0 and t1\n",
    "times, phases = almanac.find_discrete(t0, t1, f)\n",
    "\n",
    "# Print results\n",
    "for t, phase in zip(times, phases):\n",
    "    print(f\"{t.utc_datetime():%Y-%m-%d %H:%M:%S %Z} - {almanac.MOON_PHASES[phase]}\")\n"
   ]
  }
 ],
 "metadata": {
  "kernelspec": {
   "display_name": "venv",
   "language": "python",
   "name": "python3"
  },
  "language_info": {
   "codemirror_mode": {
    "name": "ipython",
    "version": 3
   },
   "file_extension": ".py",
   "mimetype": "text/x-python",
   "name": "python",
   "nbconvert_exporter": "python",
   "pygments_lexer": "ipython3",
   "version": "3.13.1"
  }
 },
 "nbformat": 4,
 "nbformat_minor": 5
}
