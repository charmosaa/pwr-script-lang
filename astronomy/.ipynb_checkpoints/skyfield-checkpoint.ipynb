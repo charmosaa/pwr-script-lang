{
 "cells": [
  {
   "cell_type": "markdown",
   "id": "eb469b3e-e1a7-4a43-bd47-4330e739732f",
   "metadata": {},
   "source": [
    "# Skyfiel\n",
    "Biblioteka do astronomii\n"
   ]
  },
  {
   "cell_type": "code",
   "execution_count": null,
   "id": "b92af8ec-965f-4a6e-aafe-89700484a5b4",
   "metadata": {},
   "outputs": [],
   "source": []
  }
 ],
 "metadata": {
  "kernelspec": {
   "display_name": "Python 3 (ipykernel)",
   "language": "python",
   "name": "python3"
  },
  "language_info": {
   "codemirror_mode": {
    "name": "ipython",
    "version": 3
   },
   "file_extension": ".py",
   "mimetype": "text/x-python",
   "name": "python",
   "nbconvert_exporter": "python",
   "pygments_lexer": "ipython3",
   "version": "3.13.1"
  }
 },
 "nbformat": 4,
 "nbformat_minor": 5
}
